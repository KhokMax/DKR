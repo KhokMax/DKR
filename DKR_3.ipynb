{
 "cells": [
  {
   "cell_type": "code",
   "execution_count": 4,
   "id": "6a769cd2",
   "metadata": {},
   "outputs": [],
   "source": [
    "import numpy as np"
   ]
  },
  {
   "cell_type": "code",
   "execution_count": 12,
   "id": "3c4a83ba",
   "metadata": {},
   "outputs": [
    {
     "name": "stdout",
     "output_type": "stream",
     "text": [
      "[[6.23 1.97 3.08 1.43 1.   0.   0.   0.  ]\n",
      " [2.94 6.34 5.84 1.85 0.   1.   0.   0.  ]\n",
      " [2.84 5.42 6.03 1.71 0.   0.   1.   0.  ]\n",
      " [1.67 2.75 1.26 5.25 0.   0.   0.   1.  ]]\n"
     ]
    }
   ],
   "source": [
    "A = np.array([[6.23, 1.97, 3.08, 1.43, 1, 0, 0, 0],\n",
    "              [2.94, 6.34, 5.84, 1.85, 0, 1, 0, 0],\n",
    "              [2.84, 5.42, 6.03, 1.71, 0, 0, 1, 0],\n",
    "              [1.67, 2.75, 1.26, 5.25, 0, 0, 0, 1],])\n",
    "print(A)"
   ]
  },
  {
   "cell_type": "code",
   "execution_count": 13,
   "id": "4d2ce8f7",
   "metadata": {},
   "outputs": [
    {
     "name": "stdout",
     "output_type": "stream",
     "text": [
      "[[ 6.23  1.97  3.08  1.43  1.    0.    0.    0.  ]\n",
      " [ 2.94  6.34  5.84  1.85  0.    1.    0.    0.  ]\n",
      " [-0.1  -0.92  0.19 -0.14  0.   -1.    1.    0.  ]\n",
      " [ 7.9   4.72  4.34  6.68  1.    0.    0.    1.  ]]\n"
     ]
    }
   ],
   "source": [
    "A[2] = A[2] - A[1]\n",
    "A[3] = A[3] + A[0]\n",
    "print(A)"
   ]
  },
  {
   "cell_type": "code",
   "execution_count": 14,
   "id": "0a845aa3",
   "metadata": {},
   "outputs": [
    {
     "name": "stdout",
     "output_type": "stream",
     "text": [
      "[[  6.23   1.97   3.08   1.43   1.     0.     0.     0.  ]\n",
      " [-46.9   -9.42 -18.8   -9.59  -8.     1.     0.     0.  ]\n",
      " [ -0.1   -0.92   0.19  -0.14   0.    -1.     1.     0.  ]\n",
      " [  8.     5.64   4.15   6.82   1.     1.    -1.     1.  ]]\n"
     ]
    }
   ],
   "source": [
    "A[1] = A[1] - A[0]*8\n",
    "A[3] = A[3] - A[2]\n",
    "print(A)"
   ]
  },
  {
   "cell_type": "code",
   "execution_count": 15,
   "id": "6344c00d",
   "metadata": {},
   "outputs": [
    {
     "name": "stdout",
     "output_type": "stream",
     "text": [
      "[[  6.23   1.97   3.08   1.43   1.     0.     0.     0.  ]\n",
      " [-46.9   -9.42 -18.8   -9.59  -8.     1.     0.     0.  ]\n",
      " [-47.   -10.34 -18.61  -9.73  -8.     0.     1.     0.  ]\n",
      " [  8.     5.64   4.15   6.82   1.     1.    -1.     1.  ]]\n"
     ]
    }
   ],
   "source": [
    "A[2] = A[2] + A[1]\n",
    "print(A)"
   ]
  },
  {
   "cell_type": "code",
   "execution_count": 16,
   "id": "b04f6b62",
   "metadata": {},
   "outputs": [
    {
     "name": "stdout",
     "output_type": "stream",
     "text": [
      "[[  6.23   1.97   3.08   1.43   1.     0.     0.     0.  ]\n",
      " [140.    49.68  73.6   33.31  22.     1.     0.     0.  ]\n",
      " [-47.   -10.34 -18.61  -9.73  -8.     0.     1.     0.  ]\n",
      " [  8.     5.64   4.15   6.82   1.     1.    -1.     1.  ]]\n"
     ]
    }
   ],
   "source": [
    "A[1] = A[1] + A[0]*30\n",
    "print(A)"
   ]
  },
  {
   "cell_type": "code",
   "execution_count": 17,
   "id": "95b52f7e",
   "metadata": {},
   "outputs": [
    {
     "name": "stdout",
     "output_type": "stream",
     "text": [
      "[1.     0.3162 0.4944 0.2295 0.1605 0.     0.     0.    ] \n",
      " [140.    49.68  73.6   33.31  22.     1.     0.     0.  ] \n",
      " [-47.   -10.34 -18.61  -9.73  -8.     0.     1.     0.  ] \n",
      " [ 8.    5.64  4.15  6.82  1.    1.   -1.    1.  ]\n"
     ]
    }
   ],
   "source": [
    "A[0] = A[0]/6.23\n",
    "A = A.round(4)\n",
    "print(A.round(4)[0],'\\n', A.round(4)[1],'\\n',A.round(4)[2],'\\n',A.round(4)[3])"
   ]
  },
  {
   "cell_type": "code",
   "execution_count": 18,
   "id": "7036fcfe",
   "metadata": {},
   "outputs": [
    {
     "name": "stdout",
     "output_type": "stream",
     "text": [
      "[1.     0.3162 0.4944 0.2295 0.1605 0.     0.     0.    ] \n",
      " [ 0.     5.412  4.384  1.18  -0.47   1.     0.     0.   ] \n",
      " [ 0.      4.5214  4.6268  1.0565 -0.4565  0.      1.      0.    ] \n",
      " [ 0.      3.1104  0.1948  4.984  -0.284   1.     -1.      1.    ]\n"
     ]
    }
   ],
   "source": [
    "A[1] = A[1] - A[0]*140\n",
    "A[2] = A[2] + A[0]*47\n",
    "A[3] = A[3] - A[0]*8\n",
    "print(A.round(4)[0],'\\n', A.round(4)[1],'\\n',A.round(4)[2],'\\n',A.round(4)[3])"
   ]
  },
  {
   "cell_type": "code",
   "execution_count": 19,
   "id": "d0b73d4d",
   "metadata": {},
   "outputs": [
    {
     "name": "stdout",
     "output_type": "stream",
     "text": [
      "[1.     0.3162 0.4944 0.2295 0.1605 0.     0.     0.    ] \n",
      " [ 0.     5.412  4.384  1.18  -0.47   1.     0.     0.   ] \n",
      " [ 0.      4.5214  4.6268  1.0565 -0.4565  0.      1.      0.    ] \n",
      " [ 0.     -1.411  -4.432   3.9275  0.1725  1.     -2.      1.    ]\n"
     ]
    }
   ],
   "source": [
    "A[3] = A[3] - A[2]\n",
    "print(A.round(4)[0],'\\n', A.round(4)[1],'\\n',A.round(4)[2],'\\n',A.round(4)[3])"
   ]
  },
  {
   "cell_type": "code",
   "execution_count": 20,
   "id": "dba67f47",
   "metadata": {},
   "outputs": [
    {
     "name": "stdout",
     "output_type": "stream",
     "text": [
      "[1.     0.3162 0.4944 0.2295 0.1605 0.     0.     0.    ] \n",
      " [ 0.     5.412  4.384  1.18  -0.47   1.     0.     0.   ] \n",
      " [ 0.      3.439   3.75    0.8205 -0.3625 -0.2     1.      0.    ] \n",
      " [ 0.     -1.411  -4.432   3.9275  0.1725  1.     -2.      1.    ]\n"
     ]
    }
   ],
   "source": [
    "A[2] = A[2] - A[1]*0.2\n",
    "print(A.round(4)[0],'\\n', A.round(4)[1],'\\n',A.round(4)[2],'\\n',A.round(4)[3])"
   ]
  },
  {
   "cell_type": "code",
   "execution_count": 21,
   "id": "5cb63f8c",
   "metadata": {},
   "outputs": [
    {
     "name": "stdout",
     "output_type": "stream",
     "text": [
      "[1.     0.3162 0.4944 0.2295 0.1605 0.     0.     0.    ] \n",
      " [ 0.     5.412  4.384  1.18  -0.47   1.     0.     0.   ] \n",
      " [ 0.      3.439   3.75    0.8205 -0.3625 -0.2     1.      0.    ] \n",
      " [ 0.      4.001  -0.048   5.1075 -0.2975  2.     -2.      1.    ]\n"
     ]
    }
   ],
   "source": [
    "A[3] = A[3] + A[1]\n",
    "print(A.round(4)[0],'\\n', A.round(4)[1],'\\n',A.round(4)[2],'\\n',A.round(4)[3])"
   ]
  },
  {
   "cell_type": "code",
   "execution_count": 22,
   "id": "56caf0a8",
   "metadata": {},
   "outputs": [
    {
     "name": "stdout",
     "output_type": "stream",
     "text": [
      "[1.     0.3162 0.4944 0.2295 0.1605 0.     0.     0.    ] \n",
      " [ 0.     5.412  4.384  1.18  -0.47   1.     0.     0.   ] \n",
      " [  0.    -14.77  -10.036  -3.079   1.155  -4.4     2.      0.   ] \n",
      " [ 0.     7.44   3.702  5.928 -0.66   1.8   -1.     1.   ]\n"
     ]
    }
   ],
   "source": [
    "A[3] = A[3] + A[2]\n",
    "A[2] = A[2]*2  - A[1]*4\n",
    "print(A.round(4)[0],'\\n', A.round(4)[1],'\\n',A.round(4)[2],'\\n',A.round(4)[3])"
   ]
  },
  {
   "cell_type": "code",
   "execution_count": 23,
   "id": "6cfec5f0",
   "metadata": {},
   "outputs": [
    {
     "name": "stdout",
     "output_type": "stream",
     "text": [
      "[1.     0.3162 0.4944 0.2295 0.1605 0.     0.     0.    ] \n",
      " [ 0.     5.412  4.384  1.18  -0.47   1.     0.     0.   ] \n",
      " [ 0.    78.7   67.608 17.442 -7.09  11.2    4.     0.   ] \n",
      " [  0.   -22.1  -16.37  -0.23   1.65  -7.     3.     1.  ]\n"
     ]
    }
   ],
   "source": [
    "A[3] = A[3] + A[2]*2\n",
    "A[2] = A[2]*2 + A[1]*20\n",
    "print(A.round(4)[0],'\\n', A.round(4)[1],'\\n',A.round(4)[2],'\\n',A.round(4)[3])"
   ]
  },
  {
   "cell_type": "code",
   "execution_count": 24,
   "id": "210894b2",
   "metadata": {},
   "outputs": [
    {
     "name": "stdout",
     "output_type": "stream",
     "text": [
      "[1.     0.3162 0.4944 0.2295 0.1605 0.     0.     0.    ] \n",
      " [ 0.     5.412  4.384  1.18  -0.47   1.     0.     0.   ] \n",
      " [ 0.    78.7   67.608 17.442 -7.09  11.2    4.     0.   ] \n",
      " [  0.    214.    186.454  52.096 -19.62   26.6    15.      1.   ]\n"
     ]
    }
   ],
   "source": [
    "A[3] = A[3] + A[2]*3\n",
    "print(A.round(4)[0],'\\n', A.round(4)[1],'\\n',A.round(4)[2],'\\n',A.round(4)[3])"
   ]
  },
  {
   "cell_type": "code",
   "execution_count": 25,
   "id": "48c1ab9b",
   "metadata": {},
   "outputs": [
    {
     "name": "stdout",
     "output_type": "stream",
     "text": [
      "[1.     0.3162 0.4944 0.2295 0.1605 0.     0.     0.    ] \n",
      " [ 0.     5.412  4.384  1.18  -0.47   1.     0.     0.   ] \n",
      " [   0.    -925.    -741.584 -201.116   79.82  -177.6      8.       0.   ] \n",
      " [  0.    214.    186.454  52.096 -19.62   26.6    15.      1.   ]\n"
     ]
    }
   ],
   "source": [
    "A[2] = A[2]*2 - A[1]*200\n",
    "print(A.round(4)[0],'\\n', A.round(4)[1],'\\n',A.round(4)[2],'\\n',A.round(4)[3])"
   ]
  },
  {
   "cell_type": "code",
   "execution_count": 26,
   "id": "043bc6ff",
   "metadata": {},
   "outputs": [
    {
     "name": "stdout",
     "output_type": "stream",
     "text": [
      "[1.     0.3162 0.4944 0.2295 0.1605 0.     0.     0.    ] \n",
      " [ 0.      1.      0.8101  0.218  -0.0868  0.1848  0.      0.    ] \n",
      " [ 0.      0.      7.7139  0.5654 -0.5107 -6.6835  8.      0.    ] \n",
      " [  0.       0.      13.1029   5.4367  -1.0354 -12.9418  15.       1.    ]\n"
     ]
    }
   ],
   "source": [
    "A[1] = A[1] / 5.412\n",
    "A[2] = A[2] + A[1]*925\n",
    "A[3] = A[3] - A[1]*214\n",
    "A = A.round(4)\n",
    "print(A.round(4)[0],'\\n', A.round(4)[1],'\\n',A.round(4)[2],'\\n',A.round(4)[3])"
   ]
  },
  {
   "cell_type": "code",
   "execution_count": 27,
   "id": "5c5bb8e3",
   "metadata": {},
   "outputs": [
    {
     "name": "stdout",
     "output_type": "stream",
     "text": [
      "[1.     0.3162 0.4944 0.2295 0.1605 0.     0.     0.    ] \n",
      " [ 0.      1.      0.8101  0.218  -0.0868  0.1848  0.      0.    ] \n",
      " [ 0.      0.      7.7139  0.5654 -0.5107 -6.6835  8.      0.    ] \n",
      " [ 0.      0.      5.389   4.8713 -0.5247 -6.2583  7.      1.    ]\n"
     ]
    }
   ],
   "source": [
    "A[3] = A[3] - A[2]\n",
    "print(A.round(4)[0],'\\n', A.round(4)[1],'\\n',A.round(4)[2],'\\n',A.round(4)[3])"
   ]
  },
  {
   "cell_type": "code",
   "execution_count": 28,
   "id": "a5ed92d8",
   "metadata": {},
   "outputs": [
    {
     "name": "stdout",
     "output_type": "stream",
     "text": [
      "[1.     0.3162 0.4944 0.2295 0.1605 0.     0.     0.    ] \n",
      " [ 0.      1.      0.8101  0.218  -0.0868  0.1848  0.      0.    ] \n",
      " [ 0.      0.      7.7139  0.5654 -0.5107 -6.6835  8.      0.    ] \n",
      " [  0.       0.     -71.75    -0.7827   4.5823  60.5767 -73.       1.    ]\n"
     ]
    }
   ],
   "source": [
    "A[3] = A[3] - A[2]*10\n",
    "print(A.round(4)[0],'\\n', A.round(4)[1],'\\n',A.round(4)[2],'\\n',A.round(4)[3])"
   ]
  },
  {
   "cell_type": "code",
   "execution_count": 29,
   "id": "dec90118",
   "metadata": {},
   "outputs": [
    {
     "name": "stdout",
     "output_type": "stream",
     "text": [
      "[1.     0.3162 0.4944 0.2295 0.1605 0.     0.     0.    ] \n",
      " [ 0.      1.      0.8101  0.218  -0.0868  0.1848  0.      0.    ] \n",
      " [ 0.      0.      7.7139  0.5654 -0.5107 -6.6835  8.      0.    ] \n",
      " [    0.       0.   -7175.     -78.27   458.23  6057.67 -7300.     100.  ]\n"
     ]
    }
   ],
   "source": [
    "A[3] = A[3]*100\n",
    "print(A.round(4)[0],'\\n', A.round(4)[1],'\\n',A.round(4)[2],'\\n',A.round(4)[3])"
   ]
  },
  {
   "cell_type": "code",
   "execution_count": 30,
   "id": "be4abd2b",
   "metadata": {},
   "outputs": [
    {
     "name": "stdout",
     "output_type": "stream",
     "text": [
      "[1.     0.3162 0.4944 0.2295 0.1605 0.     0.     0.    ] \n",
      " [ 0.      1.      0.8101  0.218  -0.0868  0.1848  0.      0.    ] \n",
      " [ 0.      0.      1.      0.0733 -0.0662 -0.8664  1.0371  0.    ] \n",
      " [   0.        0.        0.      447.6306  -16.792  -158.9147  141.1128\n",
      "  100.    ]\n"
     ]
    }
   ],
   "source": [
    "A[2] = A[2]/7.7139\n",
    "A[3] = A[3] + A[2]*7175\n",
    "A = A.round(4)\n",
    "print(A.round(4)[0],'\\n', A.round(4)[1],'\\n',A.round(4)[2],'\\n',A.round(4)[3])"
   ]
  },
  {
   "cell_type": "code",
   "execution_count": 31,
   "id": "481712f4",
   "metadata": {},
   "outputs": [
    {
     "name": "stdout",
     "output_type": "stream",
     "text": [
      "[1.     0.3162 0.4944 0.2295 0.1605 0.     0.     0.    ] \n",
      " [ 0.      1.      0.8101  0.218  -0.0868  0.1848  0.      0.    ] \n",
      " [ 0.      0.      1.      0.0733 -0.0662 -0.8664  1.0371  0.    ] \n",
      " [ 0.      0.      0.      1.     -0.0375 -0.355   0.3152  0.2234]\n"
     ]
    }
   ],
   "source": [
    "A[3] = A[3]/447.6306\n",
    "A = A.round(4)\n",
    "print(A.round(4)[0],'\\n', A.round(4)[1],'\\n',A.round(4)[2],'\\n',A.round(4)[3])"
   ]
  },
  {
   "cell_type": "code",
   "execution_count": 32,
   "id": "52c6e626",
   "metadata": {},
   "outputs": [
    {
     "name": "stdout",
     "output_type": "stream",
     "text": [
      "[[ 1.      0.3162  0.4944  0.2295  0.1605  0.      0.      0.    ]\n",
      " [ 0.      1.      0.8101  0.218  -0.0868  0.1848  0.      0.    ]\n",
      " [ 0.      0.      1.      0.0733 -0.0662 -0.8664  1.0371  0.    ]\n",
      " [ 0.      0.      0.      1.     -0.0375 -0.355   0.3152  0.2234]]\n"
     ]
    }
   ],
   "source": [
    "print(A)"
   ]
  },
  {
   "cell_type": "code",
   "execution_count": 33,
   "id": "561f866f",
   "metadata": {},
   "outputs": [
    {
     "name": "stdout",
     "output_type": "stream",
     "text": [
      "[[1.     0.3162 0.4944 0.2295]\n",
      " [0.     1.     0.8101 0.218 ]\n",
      " [0.     0.     1.     0.0733]\n",
      " [0.     0.     0.     1.    ]] \n",
      " [[ 0.1605  0.      0.      0.    ]\n",
      " [-0.0868  0.1848  0.      0.    ]\n",
      " [-0.0662 -0.8664  1.0371  0.    ]\n",
      " [-0.0375 -0.355   0.3152  0.2234]]\n"
     ]
    }
   ],
   "source": [
    "Matrix_1 = np.array([[ 1,      0.3162,  0.4944,  0.2295,  ],\n",
    " [ 0,      1,      0.8101,  0.218],\n",
    " [ 0,      0,      1,      0.0733],\n",
    " [ 0,      0,      0,    1   ]])\n",
    "Matrix_2 = np.array([[ 0.1605,  0,      0,      0,    ],\n",
    " [  -0.0868,  0.1848,  0,      0    ],\n",
    " [ -0.0662, -0.8664,  1.0371,  0    ],\n",
    " [ -0.0375, -0.355,   0.3152,  0.2234]])\n",
    "print(Matrix_1,'\\n', Matrix_2)"
   ]
  },
  {
   "cell_type": "code",
   "execution_count": 34,
   "id": "bebb1ee0",
   "metadata": {},
   "outputs": [
    {
     "name": "stdout",
     "output_type": "stream",
     "text": [
      "[[ 0.2091  0.1988 -0.2922 -0.032 ]\n",
      " [-0.0272  0.943  -0.8902 -0.0354]\n",
      " [-0.0635 -0.8404  1.014  -0.0164]\n",
      " [-0.0375 -0.355   0.3152  0.2234]]\n"
     ]
    }
   ],
   "source": [
    "Matrix = np.zeros((4,4))\n",
    "for i in range(4):\n",
    "    Matrix[3, i] = Matrix_2[3, i]\n",
    "    Matrix[2, i] = Matrix_2[2, i] - Matrix_1[2, 3]*Matrix[3, i]\n",
    "    Matrix[1, i] = Matrix_2[1, i] - Matrix_1[1, 3]*Matrix[3, i] - Matrix_1[1, 2]*Matrix[2, i]\n",
    "    Matrix[0, i] = Matrix_2[0, i] - Matrix_1[0, 3]* Matrix[3, i] - Matrix_1[0, 2]* Matrix[2, i] - Matrix_1[0, 1] * Matrix[1, i]\n",
    "\n",
    "Matrix\n",
    "print(Matrix.round(4))"
   ]
  },
  {
   "cell_type": "code",
   "execution_count": 48,
   "id": "d50fca82",
   "metadata": {},
   "outputs": [
    {
     "name": "stdout",
     "output_type": "stream",
     "text": [
      "D_0 = [[ 0.20908451  0.19878516 -0.292192   -0.03196964]\n",
      " [-0.02722314  0.94298062 -0.89015163 -0.03543563]\n",
      " [-0.06345125 -0.8403785   1.01399584 -0.01637522]\n",
      " [-0.0375     -0.355       0.3152      0.2234    ]]\n",
      "F_0 = [[ 8.79704725e-05 -8.75779581e-05  1.11670755e-04 -4.72427877e-05]\n",
      " [-2.18342386e-03  1.63492821e-03 -2.24989769e-03  9.93958522e-04]\n",
      " [ 4.85473215e-04 -9.72468019e-04  1.06019334e-03 -4.16497581e-04]\n",
      " [ 2.51609215e-03 -2.54101579e-03  3.44286054e-03 -1.37992360e-03]]\n",
      "D_1 = [[ 0.20844658  0.19945723 -0.29303574 -0.03161612]\n",
      " [-0.02980577  0.9454804  -0.89334201 -0.03407742]\n",
      " [-0.06117086 -0.84269137  1.01689817 -0.01760725]\n",
      " [-0.03601307 -0.3564513   0.31709783  0.22260936]]\n"
     ]
    },
    {
     "data": {
      "text/plain": [
       "0.0031903827263478624"
      ]
     },
     "execution_count": 48,
     "metadata": {},
     "output_type": "execute_result"
    }
   ],
   "source": [
    "E = np.eye(4)\n",
    "A = np.array([[6.23, 1.97, 3.08, 1.43],\n",
    "              [2.94, 6.34, 5.84, 1.85],\n",
    "              [2.84, 5.42, 6.03, 1.71],\n",
    "              [1.67, 2.75, 1.26, 5.25]])\n",
    "D_0 = Matrix\n",
    "print('D_0 =',D_0)\n",
    "F_0 = E - np.dot(A,Matrix)\n",
    "print('F_0 =',F_0)\n",
    "D_1 = D_0 + np.dot(D_0, F_0)\n",
    "print('D_1 =',D_1)\n",
    "np.max(np.abs(D_1 - D_0))"
   ]
  },
  {
   "cell_type": "code",
   "execution_count": null,
   "id": "5bd09b3c",
   "metadata": {},
   "outputs": [],
   "source": []
  }
 ],
 "metadata": {
  "kernelspec": {
   "display_name": "Python 3 (ipykernel)",
   "language": "python",
   "name": "python3"
  },
  "language_info": {
   "codemirror_mode": {
    "name": "ipython",
    "version": 3
   },
   "file_extension": ".py",
   "mimetype": "text/x-python",
   "name": "python",
   "nbconvert_exporter": "python",
   "pygments_lexer": "ipython3",
   "version": "3.9.1"
  }
 },
 "nbformat": 4,
 "nbformat_minor": 5
}
