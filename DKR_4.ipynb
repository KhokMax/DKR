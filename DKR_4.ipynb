{
 "cells": [
  {
   "cell_type": "code",
   "execution_count": 17,
   "id": "abb771bd",
   "metadata": {},
   "outputs": [],
   "source": [
    "import numpy as np"
   ]
  },
  {
   "cell_type": "code",
   "execution_count": 18,
   "id": "f77c8ad8",
   "metadata": {},
   "outputs": [],
   "source": [
    "a = np.array([0, 3.6, 2.2, 3])\n",
    "b = np.array([6.5, 5.9, 4.3, 4.7]) * (-1)\n",
    "c = np.array([-1.4, -1.5, -0.6, 0])\n",
    "d = np.array([4.6, 3.7, 3.1, 7.7])"
   ]
  },
  {
   "cell_type": "code",
   "execution_count": 19,
   "id": "693b0186",
   "metadata": {},
   "outputs": [
    {
     "data": {
      "text/plain": [
       "array([ True,  True,  True,  True])"
      ]
     },
     "execution_count": 19,
     "metadata": {},
     "output_type": "execute_result"
    }
   ],
   "source": [
    "np.abs(b) >= np.abs(a) + np.abs(c)"
   ]
  },
  {
   "cell_type": "code",
   "execution_count": 23,
   "id": "c0e39377",
   "metadata": {},
   "outputs": [
    {
     "data": {
      "text/plain": [
       "(array([0.21538462, 0.22470615, 0.12514722]),\n",
       " array([0.70769231, 0.17262042, 0.56738308]))"
      ]
     },
     "execution_count": 23,
     "metadata": {},
     "output_type": "execute_result"
    }
   ],
   "source": [
    "l = np.zeros(len(b)-1)\n",
    "g = np.zeros(len(b)-1)\n",
    "l[0] = c[0] / b[0]\n",
    "g[0] = (-1) * d[0] / b[0]\n",
    "\n",
    "for i in range(1,len(b) - 1):\n",
    "    l[i] = c[i] / (b[i] - a[i] * l[i-1])\n",
    "\n",
    "for i in range(1,len(b) - 1):\n",
    "    g[i] = (a[i] * g[i-1] - d[i]) / (b[i] - a[i] * l[i-1])\n",
    "l, g"
   ]
  },
  {
   "cell_type": "code",
   "execution_count": 24,
   "id": "5a38487c",
   "metadata": {},
   "outputs": [
    {
     "data": {
      "text/plain": [
       "array([ True,  True,  True])"
      ]
     },
     "execution_count": 24,
     "metadata": {},
     "output_type": "execute_result"
    }
   ],
   "source": [
    "l <= 1"
   ]
  },
  {
   "cell_type": "code",
   "execution_count": 25,
   "id": "8eec6952",
   "metadata": {},
   "outputs": [
    {
     "data": {
      "text/plain": [
       "array([0.78042707, 0.33769713, 0.73463371, 1.33643104])"
      ]
     },
     "execution_count": 25,
     "metadata": {},
     "output_type": "execute_result"
    }
   ],
   "source": [
    "x = np.zeros(len(b))\n",
    "x[-1] = (d[-1] - a[-1] * g[-2]) / (a[-1] * l[-2] - b[-1])\n",
    "\n",
    "for i in np.flip(np.arange(0, len(b)-1 )):\n",
    "    x[i] = l[i] * x[i+1] + g[i]\n",
    "x"
   ]
  },
  {
   "cell_type": "code",
   "execution_count": null,
   "id": "27fb2d30",
   "metadata": {},
   "outputs": [],
   "source": []
  }
 ],
 "metadata": {
  "kernelspec": {
   "display_name": "Python 3 (ipykernel)",
   "language": "python",
   "name": "python3"
  },
  "language_info": {
   "codemirror_mode": {
    "name": "ipython",
    "version": 3
   },
   "file_extension": ".py",
   "mimetype": "text/x-python",
   "name": "python",
   "nbconvert_exporter": "python",
   "pygments_lexer": "ipython3",
   "version": "3.9.1"
  }
 },
 "nbformat": 4,
 "nbformat_minor": 5
}
