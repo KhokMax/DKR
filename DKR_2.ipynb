{
 "cells": [
  {
   "cell_type": "code",
   "execution_count": 15,
   "id": "8316b6ea",
   "metadata": {},
   "outputs": [],
   "source": [
    "import numpy as np"
   ]
  },
  {
   "cell_type": "code",
   "execution_count": 20,
   "id": "c6471a37",
   "metadata": {},
   "outputs": [
    {
     "data": {
      "text/plain": [
       "(array([[0., 0., 0., 0.],\n",
       "        [0., 0., 0., 0.],\n",
       "        [0., 0., 0., 0.],\n",
       "        [0., 0., 0., 0.]]),\n",
       " array([[1., 0., 0., 0.],\n",
       "        [0., 1., 0., 0.],\n",
       "        [0., 0., 1., 0.],\n",
       "        [0., 0., 0., 1.]]))"
      ]
     },
     "execution_count": 20,
     "metadata": {},
     "output_type": "execute_result"
    }
   ],
   "source": [
    "A = np.array([[6.23, 1.97, 3.08, 1.43, 1, 0, 0, 0],\n",
    "              [2.94, 6.34, 5.84, 1.85, 0, 1, 0, 0],\n",
    "              [2.84, 5.42, 6.03, 1.71, 0, 0, 1, 0],\n",
    "              [1.67, 2.75, 1.26, 5.25, 0, 0, 0, 1],])\n",
    "L = np.zeros((4,4))\n",
    "U = np.eye(4)\n",
    "L,U"
   ]
  },
  {
   "cell_type": "code",
   "execution_count": 21,
   "id": "02e3640a",
   "metadata": {},
   "outputs": [
    {
     "name": "stdout",
     "output_type": "stream",
     "text": [
      "[[6.23 0.   0.   0.  ]\n",
      " [2.94 0.   0.   0.  ]\n",
      " [2.84 0.   0.   0.  ]\n",
      " [1.67 0.   0.   0.  ]] \n",
      " [[1. 0. 0. 0.]\n",
      " [0. 1. 0. 0.]\n",
      " [0. 0. 1. 0.]\n",
      " [0. 0. 0. 1.]]\n",
      "[[6.23   0.     0.     0.    ]\n",
      " [2.94   5.4103 0.     0.    ]\n",
      " [2.84   4.522  0.     0.    ]\n",
      " [1.67   2.2219 0.     0.    ]] \n",
      " [[1.     0.3162 0.4944 0.2295]\n",
      " [0.     1.     0.     0.    ]\n",
      " [0.     0.     1.     0.    ]\n",
      " [0.     0.     0.     1.    ]]\n",
      "[[ 6.23    0.      0.      0.    ]\n",
      " [ 2.94    5.4103  0.      0.    ]\n",
      " [ 2.84    4.522   0.9597  0.    ]\n",
      " [ 1.67    2.2219 -1.3671  0.    ]] \n",
      " [[1.     0.3162 0.4944 0.2295]\n",
      " [0.     1.     0.8108 0.2172]\n",
      " [0.     0.     1.     0.    ]\n",
      " [0.     0.     0.     1.    ]]\n",
      "[[ 6.23    0.      0.      0.    ]\n",
      " [ 2.94    5.4103  0.      0.    ]\n",
      " [ 2.84    4.522   0.9597  0.    ]\n",
      " [ 1.67    2.2219 -1.3671  4.4922]] \n",
      " [[1.     0.3162 0.4944 0.2295]\n",
      " [0.     1.     0.8108 0.2172]\n",
      " [0.     0.     1.     0.0791]\n",
      " [0.     0.     0.     1.    ]]\n"
     ]
    }
   ],
   "source": [
    "for i in range(4):\n",
    "    L[i, 0] = A[i, 0]\n",
    "    \n",
    "print(np.round(L,4),'\\n', np.round(U,4))\n",
    "\n",
    "for i in range(1,4):\n",
    "    U[0, i] = A[0, i] / L[0, 0]\n",
    "    L[i, 1] = A[i, 1] - L[i, 0] * U[0, 1]\n",
    "\n",
    "print(np.round(L,4),'\\n', np.round(U,4))\n",
    "    \n",
    "for i in range(2,4):\n",
    "    U[1, i] = (A[1, i] - L[1, 0] * U[0, i]) / L[1, 1]\n",
    "    L[i, 2] = A[i, 2] - L[i, 0] * U[0, 2] - L[i, 1] * U[1, 2]\n",
    "    \n",
    "print(np.round(L,4),'\\n', np.round(U,4))\n",
    "\n",
    "for i in range(3,4):\n",
    "    U[2, i] = (A[2, i] - L[2, 0] * U[0, i] - L[2, 1] * U[1, i]) / L[2, 2]\n",
    "    L[i, 3] = A[i, 3] - L[i, 0] * U[0, 3] - L[i, 1] * U[1, 3] - L[i, 2] * U[2, 3]\n",
    "    \n",
    "print(np.round(L,4),'\\n', np.round(U,4))"
   ]
  },
  {
   "cell_type": "code",
   "execution_count": 18,
   "id": "0974bf50",
   "metadata": {},
   "outputs": [
    {
     "data": {
      "text/plain": [
       "145.3146095400001"
      ]
     },
     "execution_count": 18,
     "metadata": {},
     "output_type": "execute_result"
    }
   ],
   "source": [
    "det = 1\n",
    "for i in range(4):\n",
    "    det *= L[i,i]\n",
    "det"
   ]
  },
  {
   "cell_type": "code",
   "execution_count": 5,
   "id": "02e9b09c",
   "metadata": {},
   "outputs": [
    {
     "name": "stdout",
     "output_type": "stream",
     "text": [
      "145.31460954000013\n"
     ]
    }
   ],
   "source": [
    "A = np.array([[6.23, 1.97, 3.08, 1.43],\n",
    "              [2.94, 6.34, 5.84, 1.85],\n",
    "              [2.84, 5.42, 6.03, 1.71],\n",
    "              [1.67, 2.75, 1.26, 5.25]])\n",
    "print(np.linalg.det(A))"
   ]
  },
  {
   "cell_type": "code",
   "execution_count": null,
   "id": "7c6ddbc9",
   "metadata": {},
   "outputs": [],
   "source": []
  }
 ],
 "metadata": {
  "kernelspec": {
   "display_name": "Python 3 (ipykernel)",
   "language": "python",
   "name": "python3"
  },
  "language_info": {
   "codemirror_mode": {
    "name": "ipython",
    "version": 3
   },
   "file_extension": ".py",
   "mimetype": "text/x-python",
   "name": "python",
   "nbconvert_exporter": "python",
   "pygments_lexer": "ipython3",
   "version": "3.9.1"
  }
 },
 "nbformat": 4,
 "nbformat_minor": 5
}
